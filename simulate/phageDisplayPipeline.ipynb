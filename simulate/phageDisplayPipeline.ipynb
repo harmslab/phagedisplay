{
 "cells": [
  {
   "cell_type": "code",
   "execution_count": 31,
   "metadata": {
    "collapsed": true
   },
   "outputs": [],
   "source": [
    "__description__ = \\\n",
    "\"\"\"\n",
    "1. Sample LIBRARY_SIZE sequences from all possible.  \n",
    "    Problems: random sampling and (maybe) bias in initial library.\n",
    "2. Sample from LIBRARY_SIZE according to protein/peptide binding constant.\n",
    "    Limiting reagent: phage particles binding to an infinite field of protiens (Do individual clones become\n",
    "                      limiting?)\n",
    "    Problems: C\n",
    "    \n",
    "3. Amplify output from previous sample (phage into log-growth bacteria).  \n",
    "    Limiting reagent: phage particles into infinite vat of bacteria\n",
    "    Problems: multiple hits, slow growers, fast growers\n",
    "\n",
    "\"\"\"\n",
    "\n",
    "import numpy as np\n",
    "import string\n",
    "\n",
    "AMINO_ACIDS = (\"A\",\"C\",\"D\",\"E\",\"F\",\n",
    "               \"G\",\"H\",\"I\",\"K\",\"L\",\n",
    "               \"M\",\"N\",\"P\",\"Q\",\"R\",\n",
    "               \"S\",\"T\",\"V\",\"W\",\"Y\")\n",
    "\n",
    "BASES = (\"A\",\"T\",\"G\",\"C\")\n",
    "\n",
    "BINARY = (\"A\",\"D\")\n",
    "\n",
    "class SeqIntegerMapper:\n",
    "    \"\"\"\n",
    "    To save memory and avoid big-ole dicts, treat sequences as base-\"alphabet size\" numbers that\n",
    "    are converted to base 10 integers.  Can handle alphabets up to 36 letters long. \n",
    "    \"\"\"\n",
    "    \n",
    "    def __init__(self,alphabet=AMINO_ACIDS):\n",
    "        \n",
    "        self._alphabet = alphabet\n",
    "        self._base = len(alphabet)\n",
    "        self.possible_digits = string.digits + string.ascii_lowercase\n",
    "        \n",
    "        self.string_to_base = dict([(letter,self.possible_digits[i]) for i, letter in enumerate(alphabet)])\n",
    "                \n",
    "    @property\n",
    "    def alphabet(self):\n",
    "        \"\"\" Get alphabet. \"\"\"\n",
    "        return self._alphabet\n",
    "\n",
    "    @property\n",
    "    def base(self):\n",
    "        \"\"\" Get base. \"\"\"\n",
    "        return self._base\n",
    "    \n",
    "        \n",
    "    def seqToInt(self,sequence_string):\n",
    "        \"\"\"\n",
    "        Not working yet\n",
    "        \"\"\"\n",
    "    \n",
    "        sequence_in_base = \"\".join([self.string_to_base[s] for s in sequence_string])\n",
    "        \n",
    "        return int(sequence_in_base,self._base)\n",
    "    \n",
    "    \n",
    "    def intToSeq(self,sequence_integer,seq_length):\n",
    "        \"\"\"\n",
    "        Return the equivalent string to the integer assuming \"alphabet\".\n",
    "        \"\"\"\n",
    "            \n",
    "        i = 0\n",
    "        digits = list(self._alphabet[0])*seq_length\n",
    "        while sequence_integer:\n",
    "            digits[i] = self._alphabet[sequence_integer % self._base]\n",
    "            sequence_integer //= self._base\n",
    "            i += 1\n",
    "          \n",
    "        digits.reverse()\n",
    "        \n",
    "        return \"\".join(digits)\n",
    "    "
   ]
  },
  {
   "cell_type": "code",
   "execution_count": 32,
   "metadata": {
    "collapsed": false
   },
   "outputs": [],
   "source": [
    "class SamplePool(object):\n",
    "    \"\"\" \n",
    "    Stupidly simple sampling object... \n",
    "    This is a just an object wrapping numpy's sampling method `choice`\n",
    "    The point is that we add properties and methods to SamplePool object that\n",
    "    help us query the pool in simulations. \n",
    "    \"\"\"   \n",
    " \n",
    "    def __init__(self, sequences, weights):\n",
    "        \"\"\"\"\"\"\n",
    "        self._sequences = np.array(sequences)\n",
    "        self._weights = np.array(weights)\n",
    "        \n",
    "    @property\n",
    "    def sequences(self):\n",
    "        \"\"\" Get sequences. \"\"\"\n",
    "        return self._sequences\n",
    "        \n",
    "    @property\n",
    "    def weights(self):\n",
    "        \"\"\" Get weights. \"\"\"\n",
    "        return self._weights\n",
    "        \n",
    "    def sample(self, size):\n",
    "        \"\"\" Return a sample. \"\"\"\n",
    "        return np.random.choice(self._sequences, size=size, replace=True, p=self._weights)\n",
    "\n",
    "    def amplify(self,observation):\n",
    "        \"\"\"\n",
    "        Amplify samplified sequences into a set of sequences with associated \n",
    "        probability distributions.  As implemented now, this won't distort\n",
    "        any frequencies, but this method can be replaced in a subclass.\n",
    "        \"\"\"\n",
    "\n",
    "        # What we *hope* is happening in the lab...\n",
    "        # amp_factor = 2**num_rounds\n",
    "        # sequences = [s*amp_factor for s in sequences]\n",
    "        \n",
    "        counts = np.bincount(observation)\n",
    "        values = np.nozero(counts)[0]\n",
    "        weights = (1.0*counts[values])/sum(counts[values])\n",
    "       \n",
    "        return values, weights\n",
    " \n",
    "        \n",
    "class Pool:\n",
    "    \"\"\"\n",
    "    Basic class for generating a pool from which to sample.  \n",
    "    \"\"\" \n",
    "\n",
    "    def __init__(self,sequence_length=12,alphabet=(0,1)):\n",
    "        \"\"\"\n",
    "        \"\"\"\n",
    "\n",
    "        self._sequence_length = sequence_length\n",
    "        self._alphabet = alphabet[:]\n",
    "  \n",
    "    @property\n",
    "    def sequence_length(self):\n",
    "        \"\"\" Get sequence length. \"\"\"\n",
    "        return self._sequence_length\n",
    "\n",
    "    @property\n",
    "    def alphabet(self):\n",
    "        \"\"\" Get alphabet. \"\"\"\n",
    "        return self._alphabet"
   ]
  },
  {
   "cell_type": "code",
   "execution_count": 38,
   "metadata": {
    "collapsed": false
   },
   "outputs": [
    {
     "name": "stdout",
     "output_type": "stream",
     "text": [
      "('A', 'C', 'D', 'E', 'F', 'G', 'H', 'I', 'K', 'L', 'M', 'N', 'P', 'Q', 'R', 'S', 'T', 'V', 'W', 'Y')\n",
      "20\n",
      "YYYYYYYYYYYYYY 1638399999999999999 9223372036854775807 False YYYYYYYYYYYYYY\n"
     ]
    }
   ],
   "source": [
    "\n",
    "import sys\n",
    "\n",
    "\n",
    "mapper = SeqIntegerMapper()\n",
    "print(mapper.alphabet)\n",
    "print(mapper.base)\n",
    "\n",
    "x = \"YYYYYYYYYYYYYY\"\n",
    "\n",
    "xint = mapper.seqToInt(x)\n",
    "y = mapper.intToSeq(xint,len(x))\n",
    "\n",
    "\n",
    "print(x,xint,sys.maxsize,xint>sys.maxsize,y)"
   ]
  },
  {
   "cell_type": "code",
   "execution_count": 40,
   "metadata": {
    "collapsed": false
   },
   "outputs": [
    {
     "data": {
      "text/plain": [
       "True"
      ]
     },
     "execution_count": 40,
     "metadata": {},
     "output_type": "execute_result"
    }
   ],
   "source": [
    "20**15 > sys.maxsize"
   ]
  },
  {
   "cell_type": "code",
   "execution_count": 43,
   "metadata": {
    "collapsed": true
   },
   "outputs": [],
   "source": [
    "a = 9223372036854775807*1000"
   ]
  },
  {
   "cell_type": "code",
   "execution_count": 44,
   "metadata": {
    "collapsed": false
   },
   "outputs": [
    {
     "name": "stdout",
     "output_type": "stream",
     "text": [
      "9223372036854775807000\n"
     ]
    }
   ],
   "source": [
    "print(a)"
   ]
  },
  {
   "cell_type": "code",
   "execution_count": null,
   "metadata": {
    "collapsed": true
   },
   "outputs": [],
   "source": []
  },
  {
   "cell_type": "code",
   "execution_count": null,
   "metadata": {
    "collapsed": true
   },
   "outputs": [],
   "source": []
  }
 ],
 "metadata": {
  "kernelspec": {
   "display_name": "Python 3",
   "language": "python",
   "name": "python3"
  },
  "language_info": {
   "codemirror_mode": {
    "name": "ipython",
    "version": 3
   },
   "file_extension": ".py",
   "mimetype": "text/x-python",
   "name": "python",
   "nbconvert_exporter": "python",
   "pygments_lexer": "ipython3",
   "version": "3.4.3"
  }
 },
 "nbformat": 4,
 "nbformat_minor": 0
}
