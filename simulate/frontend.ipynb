{
 "cells": [
  {
   "cell_type": "code",
   "execution_count": 1,
   "metadata": {
    "collapsed": false
   },
   "outputs": [],
   "source": [
    "\n",
    "\n",
    "from utility import *\n",
    "from sampling import *\n",
    "from pool import *\n",
    "\n",
    "def runMe(sequence_length,num_rounds=3,scalar=10000,affinity_max=1e6):\n",
    "    \"\"\"\n",
    "    Simulate a basic binding experiment.  \n",
    "    \"\"\"\n",
    "    \n",
    "    pipet = PipetteSampler()\n",
    "    screen = BindingSampler()\n",
    "    amplify = PhageAmplificationSampler()\n",
    "\n",
    "    pool = Pool(sequence_length=sequence_length,alphabet=AMINO_ACIDS)\n",
    "    pool.createUniformPool(100*scalar,affinity_max)\n",
    "\n",
    "    print(0,pool.current_counts.size,sum(pool.current_counts))\n",
    "    for i in range(num_rounds):\n",
    "        pipet.runExperiment(pool,100*scalar)\n",
    "        screen.runExperiment(pool,1*scalar)\n",
    "        amplify.runExperiment(pool,100*scalar,checkpoint=True)\n",
    "\n",
    "        print(i+1,pool.current_counts.size,sum(pool.current_counts))\n",
    "    \n",
    "    return pool\n",
    "\n",
    "\n"
   ]
  },
  {
   "cell_type": "code",
   "execution_count": 2,
   "metadata": {
    "collapsed": false
   },
   "outputs": [
    {
     "name": "stdout",
     "output_type": "stream",
     "text": [
      "0 1000000 1000000\n",
      "1 10000 1000000\n",
      "2 5716 1000000\n",
      "3 3948 1000000\n"
     ]
    }
   ],
   "source": [
    "pool = runMe(9,num_rounds=3,scalar=10000,affinity_max=1e6)\n"
   ]
  },
  {
   "cell_type": "code",
   "execution_count": 10,
   "metadata": {
    "collapsed": false
   },
   "outputs": [
    {
     "name": "stdout",
     "output_type": "stream",
     "text": [
      "0\n",
      "3\n",
      "6\n",
      "9\n"
     ]
    },
    {
     "data": {
      "image/png": "[encoded data removed]",
      "text/plain": [
       "<matplotlib.figure.Figure at 0x7f9d600b9898>"
      ]
     },
     "metadata": {},
     "output_type": "display_data"
    }
   ],
   "source": [
    "\n",
    "import matplotlib.pyplot as plt\n",
    "%matplotlib inline\n",
    "\n",
    "pool.round_affinities(0)\n",
    "\n",
    "m = len(pool.checkpoints)\n",
    "for i, x in enumerate(pool.checkpoints):\n",
    "    if x == True:\n",
    "        plt.plot(pool.round_affinities(i),pool.round_counts(i)/np.sum(pool.round_counts(i)),\"o\",color=[1-i/m,1-i/m,i/m])\n",
    "\n",
    "plt.xscale('log')\n",
    "plt.yscale('log')\n",
    "plt.show()\n",
    "    "
   ]
  },
  {
   "cell_type": "code",
   "execution_count": null,
   "metadata": {
    "collapsed": true
   },
   "outputs": [],
   "source": []
  },
  {
   "cell_type": "code",
   "execution_count": null,
   "metadata": {
    "collapsed": true
   },
   "outputs": [],
   "source": []
  }
 ],
 "metadata": {
  "kernelspec": {
   "display_name": "Python 3",
   "language": "python",
   "name": "python3"
  },
  "language_info": {
   "codemirror_mode": {
    "name": "ipython",
    "version": 3
   },
   "file_extension": ".py",
   "mimetype": "text/x-python",
   "name": "python",
   "nbconvert_exporter": "python",
   "pygments_lexer": "ipython3",
   "version": "3.4.3"
  }
 },
 "nbformat": 4,
 "nbformat_minor": 0
}
